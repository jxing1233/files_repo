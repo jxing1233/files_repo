{
  "nbformat": 4,
  "nbformat_minor": 0,
  "metadata": {
    "colab": {
      "provenance": [],
      "authorship_tag": "ABX9TyPUBNWtdCGgDRNBiFMxnK++",
      "include_colab_link": true
    },
    "kernelspec": {
      "name": "python3",
      "display_name": "Python 3"
    },
    "language_info": {
      "name": "python"
    }
  },
  "cells": [
    {
      "cell_type": "markdown",
      "metadata": {
        "id": "view-in-github",
        "colab_type": "text"
      },
      "source": [
        "<a href=\"https://colab.research.google.com/github/jxing1233/files_repo/blob/main/withplaylist.ipynb\" target=\"_parent\"><img src=\"https://colab.research.google.com/assets/colab-badge.svg\" alt=\"Open In Colab\"/></a>"
      ]
    },
    {
      "cell_type": "code",
      "execution_count": null,
      "metadata": {
        "id": "cIeR9tEr5g6W"
      },
      "outputs": [],
      "source": []
    },
    {
      "cell_type": "markdown",
      "source": [
        "# This is title\n",
        "\n",
        "```\n",
        "# This is formatted as code\n",
        "I love python\n",
        "```\n",
        "\n"
      ],
      "metadata": {
        "id": "FES6RW5gTzU1"
      }
    },
    {
      "cell_type": "code",
      "source": [],
      "metadata": {
        "id": "X2el4ySvT7uv"
      },
      "execution_count": null,
      "outputs": []
    },
    {
      "cell_type": "code",
      "source": [
        "print(\"Hello world\")"
      ],
      "metadata": {
        "colab": {
          "base_uri": "https://localhost:8080/"
        },
        "id": "QxWKhjTyT-UN",
        "outputId": "5744a09c-e49c-4495-c2ba-dfc0a06a29b0"
      },
      "execution_count": null,
      "outputs": [
        {
          "output_type": "stream",
          "name": "stdout",
          "text": [
            "Hello world\n"
          ]
        }
      ]
    },
    {
      "cell_type": "code",
      "source": [
        "3+5"
      ],
      "metadata": {
        "colab": {
          "base_uri": "https://localhost:8080/"
        },
        "id": "Bx35F-pjUHok",
        "outputId": "40cb87dd-e95e-4017-d3ed-6b670d085ca3"
      },
      "execution_count": null,
      "outputs": [
        {
          "output_type": "execute_result",
          "data": {
            "text/plain": [
              "8"
            ]
          },
          "metadata": {},
          "execution_count": 2
        }
      ]
    },
    {
      "cell_type": "code",
      "source": [
        "!pip install tensorflow"
      ],
      "metadata": {
        "colab": {
          "base_uri": "https://localhost:8080/"
        },
        "id": "lmxJsAAvUIWB",
        "outputId": "e0c27642-7dba-4ff4-a03d-855c88952c0c"
      },
      "execution_count": null,
      "outputs": [
        {
          "output_type": "stream",
          "name": "stdout",
          "text": [
            "Requirement already satisfied: tensorflow in /usr/local/lib/python3.10/dist-packages (2.12.0)\n",
            "Requirement already satisfied: absl-py>=1.0.0 in /usr/local/lib/python3.10/dist-packages (from tensorflow) (1.4.0)\n",
            "Requirement already satisfied: astunparse>=1.6.0 in /usr/local/lib/python3.10/dist-packages (from tensorflow) (1.6.3)\n",
            "Requirement already satisfied: flatbuffers>=2.0 in /usr/local/lib/python3.10/dist-packages (from tensorflow) (23.5.26)\n",
            "Requirement already satisfied: gast<=0.4.0,>=0.2.1 in /usr/local/lib/python3.10/dist-packages (from tensorflow) (0.4.0)\n",
            "Requirement already satisfied: google-pasta>=0.1.1 in /usr/local/lib/python3.10/dist-packages (from tensorflow) (0.2.0)\n",
            "Requirement already satisfied: grpcio<2.0,>=1.24.3 in /usr/local/lib/python3.10/dist-packages (from tensorflow) (1.56.0)\n",
            "Requirement already satisfied: h5py>=2.9.0 in /usr/local/lib/python3.10/dist-packages (from tensorflow) (3.8.0)\n",
            "Requirement already satisfied: jax>=0.3.15 in /usr/local/lib/python3.10/dist-packages (from tensorflow) (0.4.10)\n",
            "Requirement already satisfied: keras<2.13,>=2.12.0 in /usr/local/lib/python3.10/dist-packages (from tensorflow) (2.12.0)\n",
            "Requirement already satisfied: libclang>=13.0.0 in /usr/local/lib/python3.10/dist-packages (from tensorflow) (16.0.0)\n",
            "Requirement already satisfied: numpy<1.24,>=1.22 in /usr/local/lib/python3.10/dist-packages (from tensorflow) (1.22.4)\n",
            "Requirement already satisfied: opt-einsum>=2.3.2 in /usr/local/lib/python3.10/dist-packages (from tensorflow) (3.3.0)\n",
            "Requirement already satisfied: packaging in /usr/local/lib/python3.10/dist-packages (from tensorflow) (23.1)\n",
            "Requirement already satisfied: protobuf!=4.21.0,!=4.21.1,!=4.21.2,!=4.21.3,!=4.21.4,!=4.21.5,<5.0.0dev,>=3.20.3 in /usr/local/lib/python3.10/dist-packages (from tensorflow) (3.20.3)\n",
            "Requirement already satisfied: setuptools in /usr/local/lib/python3.10/dist-packages (from tensorflow) (67.7.2)\n",
            "Requirement already satisfied: six>=1.12.0 in /usr/local/lib/python3.10/dist-packages (from tensorflow) (1.16.0)\n",
            "Requirement already satisfied: tensorboard<2.13,>=2.12 in /usr/local/lib/python3.10/dist-packages (from tensorflow) (2.12.3)\n",
            "Requirement already satisfied: tensorflow-estimator<2.13,>=2.12.0 in /usr/local/lib/python3.10/dist-packages (from tensorflow) (2.12.0)\n",
            "Requirement already satisfied: termcolor>=1.1.0 in /usr/local/lib/python3.10/dist-packages (from tensorflow) (2.3.0)\n",
            "Requirement already satisfied: typing-extensions>=3.6.6 in /usr/local/lib/python3.10/dist-packages (from tensorflow) (4.6.3)\n",
            "Requirement already satisfied: wrapt<1.15,>=1.11.0 in /usr/local/lib/python3.10/dist-packages (from tensorflow) (1.14.1)\n",
            "Requirement already satisfied: tensorflow-io-gcs-filesystem>=0.23.1 in /usr/local/lib/python3.10/dist-packages (from tensorflow) (0.32.0)\n",
            "Requirement already satisfied: wheel<1.0,>=0.23.0 in /usr/local/lib/python3.10/dist-packages (from astunparse>=1.6.0->tensorflow) (0.40.0)\n",
            "Requirement already satisfied: ml-dtypes>=0.1.0 in /usr/local/lib/python3.10/dist-packages (from jax>=0.3.15->tensorflow) (0.2.0)\n",
            "Requirement already satisfied: scipy>=1.7 in /usr/local/lib/python3.10/dist-packages (from jax>=0.3.15->tensorflow) (1.10.1)\n",
            "Requirement already satisfied: google-auth<3,>=1.6.3 in /usr/local/lib/python3.10/dist-packages (from tensorboard<2.13,>=2.12->tensorflow) (2.17.3)\n",
            "Requirement already satisfied: google-auth-oauthlib<1.1,>=0.5 in /usr/local/lib/python3.10/dist-packages (from tensorboard<2.13,>=2.12->tensorflow) (1.0.0)\n",
            "Requirement already satisfied: markdown>=2.6.8 in /usr/local/lib/python3.10/dist-packages (from tensorboard<2.13,>=2.12->tensorflow) (3.4.3)\n",
            "Requirement already satisfied: requests<3,>=2.21.0 in /usr/local/lib/python3.10/dist-packages (from tensorboard<2.13,>=2.12->tensorflow) (2.27.1)\n",
            "Requirement already satisfied: tensorboard-data-server<0.8.0,>=0.7.0 in /usr/local/lib/python3.10/dist-packages (from tensorboard<2.13,>=2.12->tensorflow) (0.7.1)\n",
            "Requirement already satisfied: werkzeug>=1.0.1 in /usr/local/lib/python3.10/dist-packages (from tensorboard<2.13,>=2.12->tensorflow) (2.3.6)\n",
            "Requirement already satisfied: cachetools<6.0,>=2.0.0 in /usr/local/lib/python3.10/dist-packages (from google-auth<3,>=1.6.3->tensorboard<2.13,>=2.12->tensorflow) (5.3.1)\n",
            "Requirement already satisfied: pyasn1-modules>=0.2.1 in /usr/local/lib/python3.10/dist-packages (from google-auth<3,>=1.6.3->tensorboard<2.13,>=2.12->tensorflow) (0.3.0)\n",
            "Requirement already satisfied: rsa<5,>=3.1.4 in /usr/local/lib/python3.10/dist-packages (from google-auth<3,>=1.6.3->tensorboard<2.13,>=2.12->tensorflow) (4.9)\n",
            "Requirement already satisfied: requests-oauthlib>=0.7.0 in /usr/local/lib/python3.10/dist-packages (from google-auth-oauthlib<1.1,>=0.5->tensorboard<2.13,>=2.12->tensorflow) (1.3.1)\n",
            "Requirement already satisfied: urllib3<1.27,>=1.21.1 in /usr/local/lib/python3.10/dist-packages (from requests<3,>=2.21.0->tensorboard<2.13,>=2.12->tensorflow) (1.26.16)\n",
            "Requirement already satisfied: certifi>=2017.4.17 in /usr/local/lib/python3.10/dist-packages (from requests<3,>=2.21.0->tensorboard<2.13,>=2.12->tensorflow) (2023.5.7)\n",
            "Requirement already satisfied: charset-normalizer~=2.0.0 in /usr/local/lib/python3.10/dist-packages (from requests<3,>=2.21.0->tensorboard<2.13,>=2.12->tensorflow) (2.0.12)\n",
            "Requirement already satisfied: idna<4,>=2.5 in /usr/local/lib/python3.10/dist-packages (from requests<3,>=2.21.0->tensorboard<2.13,>=2.12->tensorflow) (3.4)\n",
            "Requirement already satisfied: MarkupSafe>=2.1.1 in /usr/local/lib/python3.10/dist-packages (from werkzeug>=1.0.1->tensorboard<2.13,>=2.12->tensorflow) (2.1.3)\n",
            "Requirement already satisfied: pyasn1<0.6.0,>=0.4.6 in /usr/local/lib/python3.10/dist-packages (from pyasn1-modules>=0.2.1->google-auth<3,>=1.6.3->tensorboard<2.13,>=2.12->tensorflow) (0.5.0)\n",
            "Requirement already satisfied: oauthlib>=3.0.0 in /usr/local/lib/python3.10/dist-packages (from requests-oauthlib>=0.7.0->google-auth-oauthlib<1.1,>=0.5->tensorboard<2.13,>=2.12->tensorflow) (3.2.2)\n"
          ]
        }
      ]
    },
    {
      "cell_type": "code",
      "source": [
        "import tensorflow as tf\n",
        "print(tf.__version__)"
      ],
      "metadata": {
        "colab": {
          "base_uri": "https://localhost:8080/"
        },
        "id": "DX9vQDr8VvK_",
        "outputId": "631fd167-d387-4a84-83e6-9d07d52dc84c"
      },
      "execution_count": null,
      "outputs": [
        {
          "output_type": "stream",
          "name": "stdout",
          "text": [
            "2.12.0\n"
          ]
        }
      ]
    },
    {
      "cell_type": "code",
      "source": [
        "!ls"
      ],
      "metadata": {
        "colab": {
          "base_uri": "https://localhost:8080/"
        },
        "id": "ZfcTWd_TY8pj",
        "outputId": "824b9316-1b46-48d0-b965-4cf7c9c335f1"
      },
      "execution_count": null,
      "outputs": [
        {
          "output_type": "stream",
          "name": "stdout",
          "text": [
            "sample_data\n"
          ]
        }
      ]
    },
    {
      "cell_type": "markdown",
      "source": [
        "tells what data sets are there"
      ],
      "metadata": {
        "id": "4idbdu2mY__4"
      }
    },
    {
      "cell_type": "code",
      "source": [
        "!ls /bin"
      ],
      "metadata": {
        "id": "IeN0yj8sdk9E",
        "outputId": "feef72d1-faa4-4f13-e2e4-a53ef6f6da3c",
        "colab": {
          "base_uri": "https://localhost:8080/"
        }
      },
      "execution_count": null,
      "outputs": [
        {
          "output_type": "stream",
          "name": "stdout",
          "text": [
            "'['\t\t\t\t      mpiCC\n",
            " 2to3-2.7\t\t\t      mpicc.openmpi\n",
            " 2to3-3.10\t\t\t      mpiCC.openmpi\n",
            " 7z\t\t\t\t      mpic++.openmpi\n",
            " 7za\t\t\t\t      mpicxx\n",
            " 7zr\t\t\t\t      mpicxx.openmpi\n",
            " aclocal\t\t\t      mpiexec\n",
            " aclocal-1.16\t\t\t      mpiexec.openmpi\n",
            " acyclic\t\t\t      mpif77\n",
            " add-apt-repository\t\t      mpif77.openmpi\n",
            " addpart\t\t\t      mpif90\n",
            " addr2line\t\t\t      mpif90.openmpi\n",
            " apropos\t\t\t      mpifort\n",
            " apt\t\t\t\t      mpifort.openmpi\n",
            " apt-add-repository\t\t      mpirun\n",
            " apt-cache\t\t\t      mpirun.openmpi\n",
            " apt-cdrom\t\t\t      mtrace\n",
            " apt-config\t\t\t      mv\n",
            " apt-extracttemplates\t\t      mysql_config\n",
            " apt-ftparchive\t\t\t      namei\n",
            " apt-get\t\t\t      nawk\n",
            " apt-key\t\t\t      ncal\n",
            " apt-mark\t\t\t      nc-config\n",
            " apt-sortpkgs\t\t\t      ncurses5-config\n",
            " ar\t\t\t\t      ncurses6-config\n",
            " arch\t\t\t\t      ncursesw5-config\n",
            " as\t\t\t\t      ncursesw6-config\n",
            " asan_symbolize\t\t\t      neato\n",
            " asan_symbolize-10\t\t      neqn\n",
            " assistant\t\t\t      networkctl\n",
            " autoconf\t\t\t      newgrp\n",
            " autoheader\t\t\t      nice\n",
            " autom4te\t\t\t      nisdomainname\n",
            " automake\t\t\t      nl\n",
            " automake-1.16\t\t\t      nm\n",
            " autoreconf\t\t\t      nns\n",
            " autoscan\t\t\t      nnsd\n",
            " autoupdate\t\t\t      nnslog\n",
            " awk\t\t\t\t      nohup\n",
            " b2\t\t\t\t      nop\n",
            " b2sum\t\t\t\t      nproc\n",
            " base32\t\t\t\t      nroff\n",
            " base64\t\t\t\t      nsenter\n",
            " basename\t\t\t      nstat\n",
            " bash\t\t\t\t      numfmt\n",
            " bashbug\t\t\t      objcopy\n",
            " bcomps\t\t\t\t      objdump\n",
            " bcp\t\t\t\t      od\n",
            " bjam\t\t\t\t      odbcinst\n",
            " bootctl\t\t\t      ogdi-config\n",
            " browse\t\t\t\t      ompi-clean\n",
            " bsd-from\t\t\t      ompi_info\n",
            " bsd-write\t\t\t      ompi-server\n",
            " bunzip2\t\t\t      opalc++\n",
            " busctl\t\t\t\t      opalcc\n",
            " bzcat\t\t\t\t      opal_wrapper\n",
            " bzcmp\t\t\t\t      opencv_annotation\n",
            " bzdiff\t\t\t\t      opencv_interactive-calibration\n",
            " bzegrep\t\t\t      opencv_version\n",
            " bzexe\t\t\t\t      opencv_visualisation\n",
            " bzfgrep\t\t\t      opencv_waldboost_detector\n",
            " bzgrep\t\t\t\t      openssl\n",
            " bzip2\t\t\t\t      orte-clean\n",
            " bzip2recover\t\t\t      orted\n",
            " bzless\t\t\t\t      orterun\n",
            " bzmore\t\t\t\t      orte-server\n",
            " c++\t\t\t\t      osage\n",
            " c89\t\t\t\t      p7zip\n",
            " c89-gcc\t\t\t      pack200\n",
            " c99\t\t\t\t      page\n",
            " c99-gcc\t\t\t      pager\n",
            " cal\t\t\t\t      pandoc\n",
            " calendar\t\t\t      paperconf\n",
            " captoinfo\t\t\t      parallel\n",
            " cat\t\t\t\t      partx\n",
            " catchsegv\t\t\t      passwd\n",
            " catman\t\t\t\t      paste\n",
            " cautious-launcher\t\t      patch\n",
            " cc\t\t\t\t      patchwork\n",
            " ccomps\t\t\t\t      pathchk\n",
            " c++filt\t\t\t      pcre2-config\n",
            " chage\t\t\t\t      pcre-config\n",
            " chardet3\t\t\t      pdb2.7\n",
            " chardetect3\t\t\t      pdb3\n",
            " chattr\t\t\t\t      pdb3.10\n",
            " chcon\t\t\t\t      pdb3.8\n",
            " chfn\t\t\t\t      pee\n",
            " chgrp\t\t\t\t      peekfd\n",
            " chmod\t\t\t\t      perl\n",
            " choom\t\t\t\t      perl5.30.0\n",
            " chown\t\t\t\t      perl5.30-x86_64-linux-gnu\n",
            " chronic\t\t\t      perlbug\n",
            " chrt\t\t\t\t      perldoc\n",
            " chsh\t\t\t\t      perlivp\n",
            " circo\t\t\t\t      perlthanks\n",
            " cksum\t\t\t\t      pg_config\n",
            " clang\t\t\t\t      pgrep\n",
            " clang++\t\t\t      pic\n",
            " clang++-10\t\t\t      piconv\n",
            " clang-10\t\t\t      pidof\n",
            " clang-cpp-10\t\t\t      pinentry\n",
            " clear\t\t\t\t      pinentry-curses\n",
            " clear_console\t\t\t      pinky\n",
            " clinfo\t\t\t\t      pixeltool\n",
            " cluster\t\t\t      pkaction\n",
            " cmake\t\t\t\t      pkcheck\n",
            " cmp\t\t\t\t      pkexec\n",
            " col\t\t\t\t      pkg-config\n",
            " colcrt\t\t\t\t      pkgdata\n",
            " colrm\t\t\t\t      pkill\n",
            " column\t\t\t\t      pkttyagent\n",
            " combine\t\t\t      pl2pm\n",
            " comm\t\t\t\t      pldd\n",
            " compile_et\t\t\t      pmap\n",
            " compose\t\t\t      pngfix\n",
            " corelist\t\t\t      png-fix-itxt\n",
            " cp\t\t\t\t      pod2html\n",
            " cpack\t\t\t\t      pod2man\n",
            " cpan\t\t\t\t      pod2text\n",
            " cpan5.30-x86_64-linux-gnu\t      pod2usage\n",
            " cpp\t\t\t\t      podchecker\n",
            " cpp-9\t\t\t\t      podselect\n",
            " c_rehash\t\t\t      pr\n",
            " csplit\t\t\t\t      preconv\n",
            " ctest\t\t\t\t      prename\n",
            " ctstat\t\t\t\t      print\n",
            " curl\t\t\t\t      printenv\n",
            " curl-config\t\t\t      printerbanner\n",
            " cut\t\t\t\t      printf\n",
            " cvtsudoers\t\t\t      prlimit\n",
            " dash\t\t\t\t      protoc\n",
            " date\t\t\t\t      prove\n",
            " dbus-cleanup-sockets\t\t      prtstat\n",
            " dbus-daemon\t\t\t      prune\n",
            " dbus-monitor\t\t\t      ps\n",
            " dbus-run-session\t\t      pslog\n",
            " dbus-send\t\t\t      pstree\n",
            " dbus-update-activation-environment   pstree.x11\n",
            " dbus-uuidgen\t\t\t      pt\n",
            " dd\t\t\t\t      ptar\n",
            " debconf\t\t\t      ptardiff\n",
            " debconf-apt-progress\t\t      ptargrep\n",
            " debconf-communicate\t\t      ptx\n",
            " debconf-copydb\t\t\t      pwd\n",
            " debconf-escape\t\t\t      pwdx\n",
            " debconf-set-selections\t\t      py3clean\n",
            " debconf-show\t\t\t      py3compile\n",
            " deb-systemd-helper\t\t      py3versions\n",
            " deb-systemd-invoke\t\t      pydoc2.7\n",
            " delpart\t\t\t      pydoc3\n",
            " derb\t\t\t\t      pydoc3.10\n",
            " designer\t\t\t      pydoc3.8\n",
            " df\t\t\t\t      pygettext2.7\n",
            " dh_autotools-dev_restoreconfig       pygettext3\n",
            " dh_autotools-dev_updateconfig\t      pygettext3.10\n",
            " diff\t\t\t\t      pygettext3.8\n",
            " diff3\t\t\t\t      python2.7\n",
            " diffimg\t\t\t      python3\n",
            " dijkstra\t\t\t      python3.10\n",
            " dir\t\t\t\t      python3.10-config\n",
            " dircolors\t\t\t      python3.8\n",
            " dirmngr\t\t\t      python3.8-config\n",
            " dirmngr-client\t\t\t      python3-config\n",
            " dirname\t\t\t      qcollectiongenerator\n",
            " dmesg\t\t\t\t      qdbus\n",
            " dnsdomainname\t\t\t      qdbuscpp2xml\n",
            " domainname\t\t\t      qdbusviewer\n",
            " dot\t\t\t\t      qdbusxml2cpp\n",
            " dot2gxl\t\t\t      qdoc\n",
            " dot_builtins\t\t\t      qdoc3\n",
            " dotty\t\t\t\t      qgltf\n",
            " dpkg\t\t\t\t      qhelpconverter\n",
            " dpkg-architecture\t\t      qhelpgenerator\n",
            " dpkg-buildflags\t\t      qlalr\n",
            " dpkg-buildpackage\t\t      qmake\n",
            " dpkg-checkbuilddeps\t\t      qml\n",
            " dpkg-deb\t\t\t      qml1plugindump\n",
            " dpkg-distaddfile\t\t      qmlbundle\n",
            " dpkg-divert\t\t\t      qmlcachegen\n",
            " dpkg-genbuildinfo\t\t      qmleasing\n",
            " dpkg-genchanges\t\t      qmlimportscanner\n",
            " dpkg-gencontrol\t\t      qmljs\n",
            " dpkg-gensymbols\t\t      qmllint\n",
            " dpkg-maintscript-helper\t      qmlmin\n",
            " dpkg-mergechangelogs\t\t      qmlplugindump\n",
            " dpkg-name\t\t\t      qmlprofiler\n",
            " dpkg-parsechangelog\t\t      qmlscene\n",
            " dpkg-query\t\t\t      qmltestrunner\n",
            " dpkg-scanpackages\t\t      qmlviewer\n",
            " dpkg-scansources\t\t      qtattributionsscanner\n",
            " dpkg-shlibdeps\t\t\t      qtchooser\n",
            " dpkg-source\t\t\t      qtconfig\n",
            " dpkg-split\t\t\t      qtdiag\n",
            " dpkg-statoverride\t\t      qt-faststart\n",
            " dpkg-trigger\t\t\t      qtpaths\n",
            " dpkg-vendor\t\t\t      qtplugininfo\n",
            " dtplite\t\t\t      quickbook\n",
            " du\t\t\t\t      qvkgen\n",
            " dumpsexp\t\t\t      R\n",
            " dwp\t\t\t\t      ranlib\n",
            " echo\t\t\t\t      rbash\n",
            " edgepaint\t\t\t      rcc\n",
            " edit\t\t\t\t      rcp\n",
            " editor\t\t\t\t      rdma\n",
            " egrep\t\t\t\t      readelf\n",
            " elfedit\t\t\t      readlink\n",
            " enc2xs\t\t\t\t      realpath\n",
            " encguess\t\t\t      rename\n",
            " env\t\t\t\t      rename.ul\n",
            " eqn\t\t\t\t      renice\n",
            " errno\t\t\t\t      repc\n",
            " ex\t\t\t\t      reset\n",
            " expand\t\t\t\t      resizepart\n",
            " expiry\t\t\t\t      resolvectl\n",
            " expr\t\t\t\t      rev\n",
            " f77\t\t\t\t      rgrep\n",
            " f95\t\t\t\t      rlogin\n",
            " factor\t\t\t\t      rm\n",
            " faillog\t\t\t      rmdir\n",
            " fallocate\t\t\t      rmic\n",
            " false\t\t\t\t      rmid\n",
            " fc-cache\t\t\t      rmiregistry\n",
            " fc-cat\t\t\t\t      routef\n",
            " fc-conflist\t\t\t      routel\n",
            " fc-list\t\t\t      rpcgen\n",
            " fc-match\t\t\t      rrsync\n",
            " fc-pattern\t\t\t      Rscript\n",
            " fc-query\t\t\t      rsh\n",
            " fc-scan\t\t\t      rsync\n",
            " fc-validate\t\t\t      rtstat\n",
            " fdp\t\t\t\t      runcon\n",
            " ffmpeg\t\t\t\t      run-mailcap\n",
            " ffplay\t\t\t\t      run-parts\n",
            " ffprobe\t\t\t      rview\n",
            " fgrep\t\t\t\t      rvim\n",
            " file\t\t\t\t      savelog\n",
            " file-rename\t\t\t      sccmap\n",
            " fincore\t\t\t      scp\n",
            " find\t\t\t\t      script\n",
            " findmnt\t\t\t      scriptreplay\n",
            " fio\t\t\t\t      sdiff\n",
            " fio2gnuplot\t\t\t      sed\n",
            " fio-btrace2fio\t\t\t      see\n",
            " fio-dedupe\t\t\t      select-editor\n",
            " fio_generate_plots\t\t      sensible-browser\n",
            " fio-genzipf\t\t\t      sensible-editor\n",
            " flock\t\t\t\t      sensible-pager\n",
            " fmt\t\t\t\t      seq\n",
            " fold\t\t\t\t      serialver\n",
            " free\t\t\t\t      setarch\n",
            " from\t\t\t\t      setpriv\n",
            " funzip\t\t\t\t      setsid\n",
            " fuser\t\t\t\t      setterm\n",
            " fusermount\t\t\t      sfdp\n",
            " g++\t\t\t\t      sftp\n",
            " g++-9\t\t\t\t      sg\n",
            " gapplication\t\t\t      sh\n",
            " gc\t\t\t\t      sha1sum\n",
            " gcc\t\t\t\t      sha224sum\n",
            " gcc-9\t\t\t\t      sha256sum\n",
            " gcc-ar\t\t\t\t      sha384sum\n",
            " gcc-ar-9\t\t\t      sha512sum\n",
            " gcc-nm\t\t\t\t      shasum\n",
            " gcc-nm-9\t\t\t      shred\n",
            " gcc-ranlib\t\t\t      shuf\n",
            " gcc-ranlib-9\t\t\t      size\n",
            " gcov\t\t\t\t      skill\n",
            " gcov-9\t\t\t\t      slabtop\n",
            " gcov-dump\t\t\t      sleep\n",
            " gcov-dump-9\t\t\t      slogin\n",
            " gcov-tool\t\t\t      snice\n",
            " gcov-tool-9\t\t\t      soelim\n",
            " gdal-config\t\t\t      sort\n",
            " gdbus\t\t\t\t      sotruss\n",
            " genbrk\t\t\t\t      splain\n",
            " gencat\t\t\t\t      split\n",
            " gencfu\t\t\t\t      sponge\n",
            " gencnval\t\t\t      sprof\n",
            " gendict\t\t\t      ss\n",
            " genfio\t\t\t\t      ssh\n",
            " genrb\t\t\t\t      ssh-add\n",
            " geos-config\t\t\t      ssh-agent\n",
            " geqn\t\t\t\t      ssh-argv0\n",
            " getconf\t\t\t      ssh-copy-id\n",
            " getent\t\t\t\t      ssh-keygen\n",
            " getopt\t\t\t\t      ssh-keyscan\n",
            " gfortran\t\t\t      stat\n",
            " gfortran-9\t\t\t      stdbuf\n",
            " gio\t\t\t\t      strings\n",
            " gio-querymodules\t\t      strip\n",
            " git\t\t\t\t      stty\n",
            " git-lfs\t\t\t      su\n",
            " git-receive-pack\t\t      sudo\n",
            " git-shell\t\t\t      sudoedit\n",
            " git-upload-archive\t\t      sudoreplay\n",
            " git-upload-pack\t\t      sum\n",
            " glib-compile-schemas\t\t      symcryptrun\n",
            " gml2gv\t\t\t\t      sync\n",
            " gold\t\t\t\t      systemctl\n",
            " google-pprof\t\t\t      systemd\n",
            " gpasswd\t\t\t      systemd-analyze\n",
            " gpg\t\t\t\t      systemd-ask-password\n",
            " gpg2\t\t\t\t      systemd-cat\n",
            " gpg-agent\t\t\t      systemd-cgls\n",
            " gpgcompose\t\t\t      systemd-cgtop\n",
            " gpgconf\t\t\t      systemd-delta\n",
            " gpg-connect-agent\t\t      systemd-detect-virt\n",
            " gpg-error-config\t\t      systemd-escape\n",
            " gpgparsemail\t\t\t      systemd-id128\n",
            " gpgrt-config\t\t\t      systemd-inhibit\n",
            " gpgsm\t\t\t\t      systemd-machine-id-setup\n",
            " gpgsplit\t\t\t      systemd-mount\n",
            " gpgtar\t\t\t\t      systemd-notify\n",
            " gpgv\t\t\t\t      systemd-path\n",
            " gpg-wks-server\t\t\t      systemd-resolve\n",
            " gpg-zip\t\t\t      systemd-run\n",
            " gpic\t\t\t\t      systemd-socket-activate\n",
            " gprof\t\t\t\t      systemd-stdio-bridge\n",
            " graphml2gv\t\t\t      systemd-sysusers\n",
            " grep\t\t\t\t      systemd-tmpfiles\n",
            " gresource\t\t\t      systemd-tty-ask-password-agent\n",
            " groff\t\t\t\t      systemd-umount\n",
            " grog\t\t\t\t      tabs\n",
            " grops\t\t\t\t      tac\n",
            " grotty\t\t\t\t      tail\n",
            " groups\t\t\t\t      tar\n",
            " gsettings\t\t\t      taskset\n",
            " gtbl\t\t\t\t      tbl\n",
            " gtk-update-icon-cache\t\t      tcldocstrip\n",
            " gunzip\t\t\t\t      tclsh\n",
            " gv2gml\t\t\t\t      tclsh8.6\n",
            " gv2gxl\t\t\t\t      tcltk-depends\n",
            " gvcolor\t\t\t      tee\n",
            " gvgen\t\t\t\t      tempfile\n",
            " gvmap\t\t\t\t      test\n",
            " gvmap.sh\t\t\t      tic\n",
            " gvpack\t\t\t\t      timedatectl\n",
            " gvpr\t\t\t\t      timeout\n",
            " gxl2dot\t\t\t      tload\n",
            " gxl2gv\t\t\t\t      tmux\n",
            " gzexe\t\t\t\t      toe\n",
            " gzip\t\t\t\t      top\n",
            " h2ph\t\t\t\t      touch\n",
            " h2xs\t\t\t\t      tput\n",
            " h5c++\t\t\t\t      tr\n",
            " h5cc\t\t\t\t      tred\n",
            " h5fc\t\t\t\t      troff\n",
            " hd\t\t\t\t      true\n",
            " head\t\t\t\t      truncate\n",
            " helpztags\t\t\t      ts\n",
            " hexdump\t\t\t      tset\n",
            " hmac256\t\t\t      tsort\n",
            " hostid\t\t\t\t      tty\n",
            " hostname\t\t\t      twopi\n",
            " hostnamectl\t\t\t      tzselect\n",
            " i386\t\t\t\t      ucf\n",
            " iconv\t\t\t\t      ucfq\n",
            " icuinfo\t\t\t      ucfr\n",
            " id\t\t\t\t      uconv\n",
            " ifdata\t\t\t\t      uic\n",
            " ifnames\t\t\t      uic3\n",
            " ifne\t\t\t\t      ul\n",
            " infocmp\t\t\t      ulockmgr_server\n",
            " infotocap\t\t\t      umount\n",
            " inspect\t\t\t      uname\n",
            " install\t\t\t      uncompress\n",
            " instmodsh\t\t\t      unexpand\n",
            " ionice\t\t\t\t      unflatten\n",
            " ip\t\t\t\t      uniq\n",
            " ipcmk\t\t\t\t      unlink\n",
            " ipcrm\t\t\t\t      unlzma\n",
            " ipcs\t\t\t\t      unpack200\n",
            " ischroot\t\t\t      unrar\n",
            " isutf8\t\t\t\t      unrar-nonfree\n",
            " jaotc\t\t\t\t      unshare\n",
            " jar\t\t\t\t      unxz\n",
            " jarsigner\t\t\t      unzip\n",
            " java\t\t\t\t      unzipsfx\n",
            " javac\t\t\t\t      update-alternatives\n",
            " javadoc\t\t\t      update-mime-database\n",
            " javap\t\t\t\t      uptime\n",
            " jcmd\t\t\t\t      users\n",
            " jdb\t\t\t\t      utmpdump\n",
            " jdeprscan\t\t\t      vdir\n",
            " jdeps\t\t\t\t      vi\n",
            " jexec\t\t\t\t      vidir\n",
            " jfr\t\t\t\t      view\n",
            " jhsdb\t\t\t\t      vim\n",
            " jimage\t\t\t\t      vim.basic\n",
            " jinfo\t\t\t\t      vimdiff\n",
            " jjs\t\t\t\t      vimdot\n",
            " jlink\t\t\t\t      vimtutor\n",
            " jmap\t\t\t\t      vipe\n",
            " jmod\t\t\t\t      vmstat\n",
            " join\t\t\t\t      w\n",
            " journalctl\t\t\t      wall\n",
            " jps\t\t\t\t      watch\n",
            " jrunscript\t\t\t      watchgnupg\n",
            " jshell\t\t\t\t      wc\n",
            " json_pp\t\t\t      wdctl\n",
            " jstack\t\t\t\t      wget\n",
            " jstat\t\t\t\t      whatis\n",
            " jstatd\t\t\t\t      whereis\n",
            " kbxutil\t\t\t      which\n",
            " kernel-install\t\t\t      who\n",
            " keytool\t\t\t      whoami\n",
            " kill\t\t\t\t      wish\n",
            " killall\t\t\t      wish8.6\n",
            " kmod\t\t\t\t      w.procps\n",
            " krb5-config\t\t\t      write\n",
            " krb5-config.mit\t\t      X11\n",
            " last\t\t\t\t      x86_64\n",
            " lastb\t\t\t\t      x86_64-linux-gnu-addr2line\n",
            " lastlog\t\t\t      x86_64-linux-gnu-ar\n",
            " lcf\t\t\t\t      x86_64-linux-gnu-as\n",
            " lckdo\t\t\t\t      x86_64-linux-gnu-c++filt\n",
            " lconvert\t\t\t      x86_64-linux-gnu-cpp\n",
            " ld\t\t\t\t      x86_64-linux-gnu-cpp-9\n",
            " ld.bfd\t\t\t\t      x86_64-linux-gnu-dwp\n",
            " ldd\t\t\t\t      x86_64-linux-gnu-elfedit\n",
            " ld.gold\t\t\t      x86_64-linux-gnu-g++\n",
            " lefty\t\t\t\t      x86_64-linux-gnu-g++-9\n",
            " less\t\t\t\t      x86_64-linux-gnu-gcc\n",
            " lessecho\t\t\t      x86_64-linux-gnu-gcc-9\n",
            " lessfile\t\t\t      x86_64-linux-gnu-gcc-ar\n",
            " lesskey\t\t\t      x86_64-linux-gnu-gcc-ar-9\n",
            " lesspipe\t\t\t      x86_64-linux-gnu-gcc-nm\n",
            " lexgrog\t\t\t      x86_64-linux-gnu-gcc-nm-9\n",
            " libgcrypt-config\t\t      x86_64-linux-gnu-gcc-ranlib\n",
            " libnetcfg\t\t\t      x86_64-linux-gnu-gcc-ranlib-9\n",
            " libpng16-config\t\t      x86_64-linux-gnu-gcov\n",
            " libpng-config\t\t\t      x86_64-linux-gnu-gcov-9\n",
            " linguist\t\t\t      x86_64-linux-gnu-gcov-dump\n",
            " link\t\t\t\t      x86_64-linux-gnu-gcov-dump-9\n",
            " linux32\t\t\t      x86_64-linux-gnu-gcov-tool\n",
            " linux64\t\t\t      x86_64-linux-gnu-gcov-tool-9\n",
            " ln\t\t\t\t      x86_64-linux-gnu-gfortran\n",
            " lneato\t\t\t\t      x86_64-linux-gnu-gfortran-9\n",
            " lnstat\t\t\t\t      x86_64-linux-gnu-gold\n",
            " locale\t\t\t\t      x86_64-linux-gnu-gprof\n",
            " locale-check\t\t\t      x86_64-linux-gnu-ld\n",
            " localectl\t\t\t      x86_64-linux-gnu-ld.bfd\n",
            " localedef\t\t\t      x86_64-linux-gnu-ld.gold\n",
            " logger\t\t\t\t      x86_64-linux-gnu-nm\n",
            " login\t\t\t\t      x86_64-linux-gnu-objcopy\n",
            " loginctl\t\t\t      x86_64-linux-gnu-objdump\n",
            " logname\t\t\t      x86_64-linux-gnu-pkg-config\n",
            " look\t\t\t\t      x86_64-linux-gnu-python3.10-config\n",
            " lorder\t\t\t\t      x86_64-linux-gnu-python3.8-config\n",
            " lrelease\t\t\t      x86_64-linux-gnu-python3-config\n",
            " ls\t\t\t\t      x86_64-linux-gnu-qmake\n",
            " lsattr\t\t\t\t      x86_64-linux-gnu-ranlib\n",
            " lsblk\t\t\t\t      x86_64-linux-gnu-readelf\n",
            " lsb_release\t\t\t      x86_64-linux-gnu-size\n",
            " lscpu\t\t\t\t      x86_64-linux-gnu-strings\n",
            " lsipc\t\t\t\t      x86_64-linux-gnu-strip\n",
            " lslocks\t\t\t      x86_64-pc-linux-gnu-pkg-config\n",
            " lslogins\t\t\t      xargs\n",
            " lsmem\t\t\t\t      xauth\n",
            " lsmod\t\t\t\t      xdg-desktop-icon\n",
            " lsns\t\t\t\t      xdg-desktop-menu\n",
            " lsof\t\t\t\t      xdg-email\n",
            " lspgpot\t\t\t      xdg-icon-resource\n",
            " lupdate\t\t\t      xdg-mime\n",
            " lzcat\t\t\t\t      xdg-open\n",
            " lzcmp\t\t\t\t      xdg-screensaver\n",
            " lzdiff\t\t\t\t      xdg-settings\n",
            " lzegrep\t\t\t      xml2-config\n",
            " lzfgrep\t\t\t      xmlpatterns\n",
            " lzgrep\t\t\t\t      xmlpatternsvalidator\n",
            " lzless\t\t\t\t      xsel\n",
            " lzma\t\t\t\t      xsubpp\n",
            " lzmainfo\t\t\t      xxd\n",
            " lzmore\t\t\t\t      xz\n",
            " m4\t\t\t\t      xzcat\n",
            " make\t\t\t\t      xzcmp\n",
            " makeconv\t\t\t      xzdiff\n",
            " make-first-existing-target\t      xzegrep\n",
            " man\t\t\t\t      xzfgrep\n",
            " mandb\t\t\t\t      xzgrep\n",
            " manpath\t\t\t      xzless\n",
            " man.REAL\t\t\t      xzmore\n",
            " man-recode\t\t\t      yes\n",
            " mawk\t\t\t\t      ypdomainname\n",
            " mcookie\t\t\t      zcat\n",
            " md5sum\t\t\t\t      zcmp\n",
            " md5sum.textutils\t\t      zdiff\n",
            " mesg\t\t\t\t      zdump\n",
            " migrate-pubring-from-classic-gpg     zegrep\n",
            " mingle\t\t\t\t      zfgrep\n",
            " mispipe\t\t\t      zforce\n",
            " mkdir\t\t\t\t      zgrep\n",
            " mkfifo\t\t\t\t      zip\n",
            " mknod\t\t\t\t      zipcloak\n",
            " mktemp\t\t\t\t      zipdetails\n",
            " mm2gv\t\t\t\t      zipgrep\n",
            " moc\t\t\t\t      zipinfo\n",
            " more\t\t\t\t      zipnote\n",
            " mount\t\t\t\t      zipsplit\n",
            " mountpoint\t\t\t      zless\n",
            " mpexpand\t\t\t      zmore\n",
            " mpic++\t\t\t\t      znew\n",
            " mpicalc\t\t\t      zrun\n",
            " mpicc\n"
          ]
        }
      ]
    },
    {
      "cell_type": "code",
      "source": [
        "!git clone https://github.com/jxing1233/files_repo.git"
      ],
      "metadata": {
        "colab": {
          "base_uri": "https://localhost:8080/"
        },
        "id": "J5ChmxJid4vv",
        "outputId": "026887e4-ed3a-4655-f849-802aaa027e2e"
      },
      "execution_count": 8,
      "outputs": [
        {
          "output_type": "stream",
          "name": "stdout",
          "text": [
            "Cloning into 'files_repo'...\n",
            "remote: Enumerating objects: 6, done.\u001b[K\n",
            "remote: Counting objects: 100% (6/6), done.\u001b[K\n",
            "remote: Compressing objects: 100% (4/4), done.\u001b[K\n",
            "remote: Total 6 (delta 0), reused 0 (delta 0), pack-reused 0\u001b[K\n",
            "Unpacking objects: 100% (6/6), 2.72 KiB | 2.72 MiB/s, done.\n"
          ]
        }
      ]
    },
    {
      "cell_type": "code",
      "source": [
        "!cd sample_data/"
      ],
      "metadata": {
        "id": "ShDIksTeeIOX"
      },
      "execution_count": 10,
      "outputs": []
    },
    {
      "cell_type": "code",
      "source": [
        "!pwd"
      ],
      "metadata": {
        "colab": {
          "base_uri": "https://localhost:8080/"
        },
        "id": "vOz6eN0peMh6",
        "outputId": "e2b14b63-5d94-41ed-c1ef-64dc96b4fbb3"
      },
      "execution_count": 11,
      "outputs": [
        {
          "output_type": "stream",
          "name": "stdout",
          "text": [
            "/content\n"
          ]
        }
      ]
    },
    {
      "cell_type": "code",
      "source": [
        "%lsmagic"
      ],
      "metadata": {
        "colab": {
          "base_uri": "https://localhost:8080/",
          "height": 303
        },
        "id": "c797fA_Mg7Zw",
        "outputId": "8a1414d8-835e-4ff5-99d0-9f9b9ae52847"
      },
      "execution_count": 12,
      "outputs": [
        {
          "output_type": "execute_result",
          "data": {
            "text/plain": [
              "Available line magics:\n",
              "%alias  %alias_magic  %autoawait  %autocall  %automagic  %autosave  %bookmark  %cat  %cd  %clear  %colors  %conda  %config  %connect_info  %cp  %debug  %dhist  %dirs  %doctest_mode  %ed  %edit  %env  %gui  %hist  %history  %killbgscripts  %ldir  %less  %lf  %lk  %ll  %load  %load_ext  %loadpy  %logoff  %logon  %logstart  %logstate  %logstop  %ls  %lsmagic  %lx  %macro  %magic  %man  %matplotlib  %mkdir  %more  %mv  %notebook  %page  %pastebin  %pdb  %pdef  %pdoc  %pfile  %pinfo  %pinfo2  %pip  %popd  %pprint  %precision  %prun  %psearch  %psource  %pushd  %pwd  %pycat  %pylab  %qtconsole  %quickref  %recall  %rehashx  %reload_ext  %rep  %rerun  %reset  %reset_selective  %rm  %rmdir  %run  %save  %sc  %set_env  %shell  %store  %sx  %system  %tb  %tensorflow_version  %time  %timeit  %unalias  %unload_ext  %who  %who_ls  %whos  %xdel  %xmode\n",
              "\n",
              "Available cell magics:\n",
              "%%!  %%HTML  %%SVG  %%bash  %%bigquery  %%capture  %%debug  %%file  %%html  %%javascript  %%js  %%latex  %%markdown  %%perl  %%prun  %%pypy  %%python  %%python2  %%python3  %%ruby  %%script  %%sh  %%shell  %%svg  %%sx  %%system  %%time  %%timeit  %%writefile\n",
              "\n",
              "Automagic is ON, % prefix IS NOT needed for line magics."
            ],
            "application/json": {
              "line": {
                "automagic": "AutoMagics",
                "autocall": "AutoMagics",
                "alias_magic": "BasicMagics",
                "lsmagic": "BasicMagics",
                "magic": "BasicMagics",
                "page": "BasicMagics",
                "pprint": "BasicMagics",
                "colors": "BasicMagics",
                "xmode": "BasicMagics",
                "quickref": "BasicMagics",
                "doctest_mode": "BasicMagics",
                "gui": "BasicMagics",
                "precision": "BasicMagics",
                "notebook": "BasicMagics",
                "save": "CodeMagics",
                "pastebin": "CodeMagics",
                "loadpy": "CodeMagics",
                "load": "CodeMagics",
                "edit": "KernelMagics",
                "config": "ConfigMagics",
                "prun": "ExecutionMagics",
                "pdb": "ExecutionMagics",
                "debug": "ExecutionMagics",
                "tb": "ExecutionMagics",
                "run": "ExecutionMagics",
                "timeit": "ExecutionMagics",
                "time": "ExecutionMagics",
                "macro": "ExecutionMagics",
                "load_ext": "ExtensionMagics",
                "unload_ext": "ExtensionMagics",
                "reload_ext": "ExtensionMagics",
                "history": "HistoryMagics",
                "recall": "HistoryMagics",
                "rerun": "HistoryMagics",
                "logstart": "LoggingMagics",
                "logstop": "LoggingMagics",
                "logoff": "LoggingMagics",
                "logon": "LoggingMagics",
                "logstate": "LoggingMagics",
                "pinfo": "NamespaceMagics",
                "pinfo2": "NamespaceMagics",
                "pdef": "NamespaceMagics",
                "pdoc": "NamespaceMagics",
                "psource": "NamespaceMagics",
                "pfile": "NamespaceMagics",
                "psearch": "NamespaceMagics",
                "who_ls": "NamespaceMagics",
                "who": "NamespaceMagics",
                "whos": "NamespaceMagics",
                "reset": "NamespaceMagics",
                "reset_selective": "NamespaceMagics",
                "xdel": "NamespaceMagics",
                "alias": "OSMagics",
                "unalias": "OSMagics",
                "rehashx": "OSMagics",
                "pwd": "OSMagics",
                "cd": "OSMagics",
                "env": "OSMagics",
                "set_env": "OSMagics",
                "pushd": "OSMagics",
                "popd": "OSMagics",
                "dirs": "OSMagics",
                "dhist": "OSMagics",
                "sc": "OSMagics",
                "sx": "OSMagics",
                "system": "OSMagics",
                "bookmark": "OSMagics",
                "pycat": "OSMagics",
                "pip": "Other",
                "conda": "PackagingMagics",
                "matplotlib": "PylabMagics",
                "pylab": "PylabMagics",
                "killbgscripts": "ScriptMagics",
                "autoawait": "AsyncMagics",
                "ed": "Other",
                "hist": "Other",
                "rep": "Other",
                "clear": "KernelMagics",
                "less": "KernelMagics",
                "more": "KernelMagics",
                "man": "KernelMagics",
                "connect_info": "KernelMagics",
                "qtconsole": "KernelMagics",
                "autosave": "KernelMagics",
                "mkdir": "Other",
                "rmdir": "Other",
                "mv": "Other",
                "rm": "Other",
                "cp": "Other",
                "cat": "Other",
                "ls": "Other",
                "ll": "Other",
                "lf": "Other",
                "lk": "Other",
                "ldir": "Other",
                "lx": "Other",
                "store": "StoreMagics",
                "shell": "Other",
                "tensorflow_version": "Other"
              },
              "cell": {
                "js": "DisplayMagics",
                "javascript": "DisplayMagics",
                "latex": "DisplayMagics",
                "svg": "DisplayMagics",
                "html": "DisplayMagics",
                "markdown": "DisplayMagics",
                "prun": "ExecutionMagics",
                "debug": "ExecutionMagics",
                "timeit": "ExecutionMagics",
                "time": "ExecutionMagics",
                "capture": "ExecutionMagics",
                "sx": "OSMagics",
                "system": "OSMagics",
                "!": "OSMagics",
                "writefile": "OSMagics",
                "script": "ScriptMagics",
                "sh": "Other",
                "bash": "Other",
                "perl": "Other",
                "ruby": "Other",
                "python": "Other",
                "python2": "Other",
                "python3": "Other",
                "pypy": "Other",
                "SVG": "Other",
                "HTML": "Other",
                "file": "Other",
                "bigquery": "Other",
                "shell": "Other"
              }
            }
          },
          "metadata": {},
          "execution_count": 12
        }
      ]
    },
    {
      "cell_type": "code",
      "source": [
        "%history"
      ],
      "metadata": {
        "colab": {
          "base_uri": "https://localhost:8080/"
        },
        "id": "me-7eZ69g931",
        "outputId": "817c685d-1e2e-4670-d991-1d7129369dec"
      },
      "execution_count": 13,
      "outputs": [
        {
          "output_type": "stream",
          "name": "stdout",
          "text": [
            "print(\"Hello world\")\n",
            "3+5\n",
            "import numpy as npm\n",
            "npm install @tensorflow/tfjs\n",
            "!pip install tensorflow\n",
            "import tensorflow as tf\n",
            "print(tf.__version__)\n",
            "!ls\n",
            "!ls /bin\n",
            "!git clone https://github.com/jxing1233/files_repo.git\n",
            "!cd sample_data/\n",
            "!cd sample_data/\n",
            "!pwd\n",
            "%lsmagic\n",
            "%history\n"
          ]
        }
      ]
    },
    {
      "cell_type": "code",
      "source": [
        "%time\n",
        "for i in range(10000):\n",
        "  for j in range(10000):\n",
        "    i * j"
      ],
      "metadata": {
        "colab": {
          "base_uri": "https://localhost:8080/"
        },
        "id": "TpMXm5LuhYsf",
        "outputId": "07a8828c-dc06-45c3-f4be-286db1753048"
      },
      "execution_count": 14,
      "outputs": [
        {
          "output_type": "stream",
          "name": "stdout",
          "text": [
            "CPU times: user 3 µs, sys: 0 ns, total: 3 µs\n",
            "Wall time: 7.87 µs\n"
          ]
        }
      ]
    },
    {
      "cell_type": "code",
      "source": [
        "%who"
      ],
      "metadata": {
        "colab": {
          "base_uri": "https://localhost:8080/"
        },
        "id": "EIQ7uFMLh0o4",
        "outputId": "9c3c6944-ca38-4c30-dae4-43dda5146d1c"
      },
      "execution_count": 15,
      "outputs": [
        {
          "output_type": "stream",
          "name": "stdout",
          "text": [
            "i\t j\t tf\t \n"
          ]
        }
      ]
    },
    {
      "cell_type": "code",
      "source": [
        "%%html\n",
        "<h1>HELLO</h1>\n",
        "<img src = 'data:image/jpeg;base64,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'/>"
      ],
      "metadata": {
        "colab": {
          "base_uri": "https://localhost:8080/",
          "height": 198
        },
        "id": "b7Q7CVMVh9L9",
        "outputId": "51c7ab6d-1c5f-4c15-adea-e298b90f31a0"
      },
      "execution_count": 18,
      "outputs": [
        {
          "output_type": "display_data",
          "data": {
            "text/plain": [
              "<IPython.core.display.HTML object>"
            ],
            "text/html": [
              "<h1>HELLO</h1>\n",
              "<img src = 'data:image/jpeg;base64,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'/>\n"
            ]
          },
          "metadata": {}
        }
      ]
    },
    {
      "cell_type": "code",
      "source": [
        "%%writefile test.py\n",
        "print(\"Hello from colab\")\n",
        "a = 2\n",
        "print(a)"
      ],
      "metadata": {
        "colab": {
          "base_uri": "https://localhost:8080/"
        },
        "id": "5dPiJEyEj9Kp",
        "outputId": "16d1c305-907f-4553-9a63-11e217f880fa"
      },
      "execution_count": 19,
      "outputs": [
        {
          "output_type": "stream",
          "name": "stdout",
          "text": [
            "Writing test.py\n"
          ]
        }
      ]
    },
    {
      "cell_type": "code",
      "source": [
        "!python /content/test.py"
      ],
      "metadata": {
        "colab": {
          "base_uri": "https://localhost:8080/"
        },
        "id": "EtoaJGpVkKdq",
        "outputId": "10a84807-9097-484d-e1bb-b529c2d7b8fc"
      },
      "execution_count": 20,
      "outputs": [
        {
          "output_type": "stream",
          "name": "stdout",
          "text": [
            "Hello from colab\n",
            "2\n"
          ]
        }
      ]
    },
    {
      "cell_type": "code",
      "source": [],
      "metadata": {
        "colab": {
          "base_uri": "https://localhost:8080/"
        },
        "id": "oQK4U1n7Fveu",
        "outputId": "4031f154-5ab8-44f5-ecb1-78bbb237a06e"
      },
      "execution_count": 21,
      "outputs": [
        {
          "output_type": "stream",
          "name": "stdout",
          "text": [
            "fatal: not a git repository (or any of the parent directories): .git\n"
          ]
        }
      ]
    }
  ]
}